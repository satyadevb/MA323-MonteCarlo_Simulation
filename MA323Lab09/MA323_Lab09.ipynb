{
  "nbformat": 4,
  "nbformat_minor": 0,
  "metadata": {
    "colab": {
      "name": "MA323_Lab09.ipynb",
      "provenance": [],
      "collapsed_sections": [],
      "authorship_tag": "ABX9TyOKZ7XS2yYDqSte10Khheli",
      "include_colab_link": true
    },
    "kernelspec": {
      "name": "python3",
      "display_name": "Python 3"
    }
  },
  "cells": [
    {
      "cell_type": "markdown",
      "metadata": {
        "id": "view-in-github",
        "colab_type": "text"
      },
      "source": [
        "<a href=\"https://colab.research.google.com/github/satyadevb/MA323/blob/main/MA323_Lab09.ipynb\" target=\"_parent\"><img src=\"https://colab.research.google.com/assets/colab-badge.svg\" alt=\"Open In Colab\"/></a>"
      ]
    },
    {
      "cell_type": "code",
      "metadata": {
        "id": "5uz1qb2c5nxQ",
        "colab": {
          "base_uri": "https://localhost:8080/"
        },
        "outputId": "7cb7d0c4-b0f7-4a6f-9b3d-5f6ae0477234"
      },
      "source": [
        "import matplotlib.pyplot as plt\n",
        "import numpy as np\n",
        "import statistics\n",
        "import random\n",
        "import math\n",
        "from scipy import stats\n",
        "import time\n",
        "\n",
        "closing_prices = [184.800003,185.449997,184.699997,188.050003,188.600006,191.899994,199.100006,195.600006,192.699997,186.050003,183.800003,186.25,188.199997,190.75,194.399994,\n",
        "                192,198.25,191.949997,187.149994,189.449997,191.199997,186.550003,191.449997,192.25,191.600006,191.449997,190.949997,190.649994,193.800003,195.050003,203.300003,\n",
        "                201.899994,196.5,193.100006,195.100006,197.050003,194.75,198.399994,201.449997,207.949997,\n",
        "                209.850006,215.649994,224.850006,212,218.100006,216.25,213.149994,206.600006,207.899994,204.050003,194.850006,198.149994,202.699997,198.5,200.149994,\n",
        "                198.199997,195.449997,192.600006,185.800003,186.199997,183.800003,176.350006,182.199997,187.25,185.050003,185.399994]\n",
        "\n",
        "mu = 0.0002981060700200034 \n",
        "sigma =  0.02228172705870555 \n",
        "\n",
        "def log_norm(N):\n",
        "  sum = 0\n",
        "  for i in range(N):\n",
        "    sum = sum + (mu + sigma * np.random.normal(0,1,1)[0])\n",
        "  return sum\n",
        "\n",
        "Starting_price = closing_prices[len(closing_prices)-1]\n",
        "K = 1.1 * Starting_price\n",
        "\n",
        "AsianPut_payofflist = []\n",
        "EuropeanPut_payofflist = []\n",
        "for sim in range(1000):\n",
        "    Stock = Starting_price\n",
        "    Stock_list = []\n",
        "    for i in range(301):\n",
        "        Z = np.random.normal(0,1,1)[0]\n",
        "        Stock = Stock * math.exp((mu - 0.5 * (sigma**2)) * 0.1 + sigma * Z * math.sqrt(0.1))\n",
        "        Stock_list.append(Stock)\n",
        "\n",
        "    AsianPut_payoff = max(0, K - (math.fsum(Stock_list)/301))\n",
        "    AsianPut_payofflist.append(AsianPut_payoff)\n",
        "    EuropeanPut_payoff = max(0, K - Stock_list[299])\n",
        "    EuropeanPut_payofflist.append(EuropeanPut_payoff)\n",
        "\n",
        "AsianPut_mean = statistics.mean(AsianPut_payofflist)\n",
        "AsianPut_variance = statistics.variance(AsianPut_payofflist)\n",
        "EuropeanPut_mean = statistics.mean(EuropeanPut_payofflist)\n",
        "EuropeanPut_variance = statistics.variance(EuropeanPut_payofflist)\n",
        "\n",
        "print(\"\\nThe sampling mean of the payoffs to an Asian put option is \",AsianPut_mean)\n",
        "print(\"\\nThe sampling variance of the payoffs to an Asian put option is \",AsianPut_variance)\n",
        "print(\"\\nThe 95% confidence interval is [\",AsianPut_mean - (1.96 * math.sqrt(AsianPut_variance))/ math.sqrt(1000),\",\",AsianPut_mean + (1.96 * math.sqrt(AsianPut_variance)) / math.sqrt(1000),\"]\")\n",
        "sum = 0\n",
        "for i in range(1000):\n",
        "    sum+= (EuropeanPut_payofflist[i] - EuropeanPut_mean) * (AsianPut_payofflist[i] - AsianPut_mean)\n",
        "\n",
        "covariance = sum / 1000\n",
        "b = covariance/EuropeanPut_variance\n",
        "rho = covariance/math.sqrt(EuropeanPut_variance * AsianPut_variance)\n",
        "\n",
        "# Sampling with the help of the control variate:\n",
        "\n",
        "print(\"\\nNow, Sampling using the control variate:\")\n",
        "\n",
        "ControlVariate_Estimator_list = []\n",
        "\n",
        "for sim in range(1000):\n",
        "    Stock = Starting_price\n",
        "    Stock_list = []\n",
        "    for i in range(301):\n",
        "        Z = np.random.normal(0,1,1)[0]\n",
        "        Stock = Stock * math.exp((mu - 0.5 * (sigma**2)) * 0.1 + sigma * Z * math.sqrt(0.1))\n",
        "        Stock_list.append(Stock)\n",
        "\n",
        "    AsianPut_payoff2 = max(0, K - (math.fsum(Stock_list) / 301))\n",
        "    EuropeanPut_payoff2 = max(0, K - Stock_list[299])\n",
        "    \n",
        "    ControlVariate_Estimator = AsianPut_payoff2 - b * (EuropeanPut_payoff2 - EuropeanPut_mean)\n",
        "    ControlVariate_Estimator_list.append(ControlVariate_Estimator)\n",
        "\n",
        "ControlVariate_Estimator_mean = statistics.mean(ControlVariate_Estimator_list)\n",
        "ControlVariate_Estimator_variance = statistics.variance(ControlVariate_Estimator_list)\n",
        "\n",
        "\n",
        "print(\"\\nThe sampling mean of the payoffs to an Asian put option using control variate is \",ControlVariate_Estimator_mean)\n",
        "print(\"\\nThe sampling variance of the payoffs to an Asian put option using control variate is \",ControlVariate_Estimator_variance)\n",
        "print(\"\\nThe 95% confidence interval is [\",ControlVariate_Estimator_mean - (1.96 * math.sqrt(ControlVariate_Estimator_variance))/ math.sqrt(1000),\",\",ControlVariate_Estimator_mean + (1.96 * math.sqrt(ControlVariate_Estimator_variance)) / math.sqrt(1000),\"]\")\n",
        "\n",
        "\n",
        "\n"
      ],
      "execution_count": null,
      "outputs": [
        {
          "output_type": "stream",
          "text": [
            "\n",
            "The sampling mean of the payoffs to an Asian put option is  17.97301260108233\n",
            "\n",
            "The sampling variance of the payoffs to an Asian put option is  138.22699908297244\n",
            "\n",
            "The 95% confidence interval is [ 17.24430632302707 , 18.70171887913759 ]\n",
            "\n",
            "Now, Sampling using the control variate:\n",
            "\n",
            "The sampling mean of the payoffs to an Asian put option using control variate is  18.22280625758937\n",
            "\n",
            "The sampling variance of the payoffs to an Asian put option using control variate is  39.54350298743783\n",
            "\n",
            "The 95% confidence interval is [ 17.83304951155854 , 18.6125630036202 ]\n"
          ],
          "name": "stdout"
        }
      ]
    }
  ]
}

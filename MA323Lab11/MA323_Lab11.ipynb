{
  "nbformat": 4,
  "nbformat_minor": 0,
  "metadata": {
    "colab": {
      "name": "MA323_Lab11.ipynb",
      "provenance": [],
      "collapsed_sections": [],
      "authorship_tag": "ABX9TyMXAwqgb43OkDx8LsA6afaZ",
      "include_colab_link": true
    },
    "kernelspec": {
      "name": "python3",
      "display_name": "Python 3"
    }
  },
  "cells": [
    {
      "cell_type": "markdown",
      "metadata": {
        "id": "view-in-github",
        "colab_type": "text"
      },
      "source": [
        "<a href=\"https://colab.research.google.com/github/satyadevb/MA323/blob/main/MA323_Lab11.ipynb\" target=\"_parent\"><img src=\"https://colab.research.google.com/assets/colab-badge.svg\" alt=\"Open In Colab\"/></a>"
      ]
    },
    {
      "cell_type": "code",
      "metadata": {
        "id": "vOOyjPOIR4-j",
        "colab": {
          "base_uri": "https://localhost:8080/"
        },
        "outputId": "0f4634cc-3d4f-4364-da09-0c714bf39c59"
      },
      "source": [
        "import matplotlib.pyplot as plt\n",
        "import numpy as np\n",
        "import statistics\n",
        "import random\n",
        "import math\n",
        "import time\n",
        " \n",
        "N_list = [10,20,50,100]\n",
        "\n",
        "n = 10000\n",
        "\n",
        "for N in N_list:\n",
        "    print(\"\\nNumber of sub-intervals is \",N,\"\\n\")\n",
        "    u_list = []\n",
        "    x = 15243;m = 244944;a = 1597;b = 20\n",
        "    y = 0;freq = []\n",
        "    for i in range(N):\n",
        "        freq.append(0)\n",
        "    for i in range(10000):\n",
        "        y = (a*x + b)%m\n",
        "        x = y\n",
        "        u_list.append(y/m)\n",
        "        freq[math.floor(N * y/m)] = 1 + freq[math.floor(N * y/m)]  \n",
        "    disc = 0\n",
        "    for i in range(N):\n",
        "        disc = max(disc,abs(freq[i]/n - 1/N))\n",
        "    print(\"The discrepancy is \",disc,\"\\n\")  \n"
      ],
      "execution_count": null,
      "outputs": [
        {
          "output_type": "stream",
          "text": [
            "\n",
            "Number of sub-intervals is  10 \n",
            "\n",
            "The discrepancy is  0.0030999999999999917 \n",
            "\n",
            "\n",
            "Number of sub-intervals is  20 \n",
            "\n",
            "The discrepancy is  0.0023999999999999994 \n",
            "\n",
            "\n",
            "Number of sub-intervals is  50 \n",
            "\n",
            "The discrepancy is  0.0028000000000000004 \n",
            "\n",
            "\n",
            "Number of sub-intervals is  100 \n",
            "\n",
            "The discrepancy is  0.002 \n",
            "\n"
          ],
          "name": "stdout"
        }
      ]
    }
  ]
}

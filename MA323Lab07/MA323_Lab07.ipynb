{
  "nbformat": 4,
  "nbformat_minor": 0,
  "metadata": {
    "colab": {
      "name": "MA323_Lab07.ipynb",
      "provenance": [],
      "collapsed_sections": [],
      "authorship_tag": "ABX9TyPMTWqHFV4EamgXZQCozad+",
      "include_colab_link": true
    },
    "kernelspec": {
      "name": "python3",
      "display_name": "Python 3"
    }
  },
  "cells": [
    {
      "cell_type": "markdown",
      "metadata": {
        "id": "view-in-github",
        "colab_type": "text"
      },
      "source": [
        "<a href=\"https://colab.research.google.com/github/satyadevb/MA323/blob/main/MA323_Lab07.ipynb\" target=\"_parent\"><img src=\"https://colab.research.google.com/assets/colab-badge.svg\" alt=\"Open In Colab\"/></a>"
      ]
    },
    {
      "cell_type": "code",
      "metadata": {
        "id": "eiN90s7waN3u",
        "colab": {
          "base_uri": "https://localhost:8080/"
        },
        "outputId": "7b87392f-979b-43d0-caaa-f3a33b99a83e"
      },
      "source": [
        "import matplotlib.pyplot as plt\n",
        "import matplotlib.mlab as mlab\n",
        "import numpy as np\n",
        "import statistics\n",
        "import random\n",
        "import math\n",
        "from scipy import stats\n",
        "import time\n",
        "\n",
        "dates_list = [\"7/1/2020\",\"7/1/2020\",\"7/3/2020\",\"7/6/2020\",\"7/7/2020\",\"7/8/2020\",\"7/9/2020\",\"7/10/2020\",\"7/13/2020\",\"7/14/2020\",\n",
        "\"7/15/2020\",\"7/16/2020\",\"7/17/2020\",\"7/20/2020\",\"7/21/2020\",\"7/22/2020\",\"7/23/2020\",\"7/24/2020\",\"7/27/2020\",\"7/28/2020\",\"7/29/2020\",\"7/30/2020\",\"7/31/2020\",\n",
        "\"8/3/2020\",\"8/4/2020\",\"8/5/2020\",\"8/6/2020\",\"8/7/2020\",\"8/10/2020\",\"8/11/2020\",\"8/12/2020\",\"8/13/2020\",\"8/14/2020\",\"8/17/2020\",\"8/18/2020\",\"8/19/2020\",\"8/20/2020\",\"8/21/2020\",\n",
        "\"8/24/2020\",\"8/25/2020\",\"8/26/2020\",\"8/27/2020\",\"8/28/2020\",\"8/31/2020\",\"9/1/2020\",\"9/2/2020\",\"9/3/2020\",\"9/4/2020\",\"9/7/2020\",\"9/8/2020\",\"9/9/2020\",\"9/10/2020\",\n",
        "\"9/11/2020\",\"9/14/2020\",\"9/15/2020\",\"9/16/2020\",\"9/17/2020\",\"9/18/2020\",\"9/21/2020\",\"9/22/2020\",\"9/23/2020\",\"9/24/2020\",\"9/25/2020\",\"9/28/2020\",\"9/29/2020\",\n",
        "\"9/30/2020\"]\n",
        "\n",
        "closing_prices = [184.800003,185.449997,184.699997,188.050003,188.600006,191.899994,199.100006,195.600006,192.699997,186.050003,183.800003,186.25,188.199997,190.75,194.399994,\n",
        "                192,198.25,191.949997,187.149994,189.449997,191.199997,186.550003,191.449997,192.25,191.600006,191.449997,190.949997,190.649994,193.800003,195.050003,203.300003,\n",
        "                201.899994,196.5,193.100006,195.100006,197.050003,194.75,198.399994,201.449997,207.949997,\n",
        "                209.850006,215.649994,224.850006,212,218.100006,216.25,213.149994,206.600006,207.899994,204.050003,194.850006,198.149994,202.699997,198.5,200.149994,\n",
        "                198.199997,195.449997,192.600006,185.800003,186.199997,183.800003,176.350006,182.199997,187.25,185.050003,185.399994]\n",
        "\n",
        "price_Oct7 = 190.70;price_Oct14 = 200.05;price_Oct21 = 203.75\n",
        "\n",
        "ulist = []\n",
        "\n",
        "for i in range(len(closing_prices) - 1):\n",
        "    ulist.append(np.log(closing_prices[i + 1]/closing_prices[i]))\n",
        "\n",
        "sum = 0\n",
        "for u in ulist:\n",
        "    sum+= u\n",
        "ex = sum/len(ulist)\n",
        "\n",
        "sum = 0\n",
        "for u in ulist:\n",
        "    sum+= (u - ex)**2\n",
        "sigma_square = sum/(len(ulist) - 1)\n",
        "\n",
        "mu = ex + sigma_square/2\n",
        "sigma = math.sqrt(sigma_square)\n",
        "\n",
        "print(\"The value of mu is \",mu,\"\\n\")\n",
        "print(\"The value of sigma is \",sigma,\"\\n\")\n",
        "\n",
        "Starting_price = closing_prices[len(closing_prices)-1]\n",
        "\n",
        "values_7_Oct= [];values_14_Oct= [];values_21_Oct= []\n",
        "\n",
        "for i in range(1000):\n",
        "    S = Starting_price\n",
        "    for day in range(21):\n",
        "        z = np.random.normal(0,1,1)[0]\n",
        "        S = S * math.exp(ex + sigma * z)\n",
        "        if(day == 3):\n",
        "            values_7_Oct.append(S)\n",
        "        if(day == 8):\n",
        "            values_14_Oct.append(S)\n",
        "        if(day == 13):\n",
        "            values_21_Oct.append(S)\n",
        "\n",
        "print(\"The expected price at 7th October is \",statistics.mean(values_7_Oct))\n",
        "print(\"The associated error is\",100 * (price_Oct7 - statistics.mean(values_7_Oct))/price_Oct7,\"%\\n\")\n",
        "print(\"The expected price at 14th October is \",statistics.mean(values_14_Oct))\n",
        "print(\"The associated error is\",100 * (price_Oct14 - statistics.mean(values_14_Oct))/price_Oct14,\"%\\n\")\n",
        "print(\"The expected price at 21st October is \",statistics.mean(values_21_Oct))\n",
        "print(\"The associated error is\",100 * (price_Oct21 - statistics.mean(values_21_Oct))/price_Oct21,\"%\\n\")"
      ],
      "execution_count": null,
      "outputs": [
        {
          "output_type": "stream",
          "text": [
            "The value of mu is  0.0002981060700200034 \n",
            "\n",
            "The value of sigma is  0.02228172705870555 \n",
            "\n",
            "The expected price at 7th October is  185.83073329704885\n",
            "The associated error is 2.5533648153912623 %\n",
            "\n",
            "The expected price at 14th October is  186.37172066271143\n",
            "The associated error is 6.837430311066526 %\n",
            "\n",
            "The expected price at 21st October is  186.7358121523945\n",
            "The associated error is 8.35052164299657 %\n",
            "\n"
          ],
          "name": "stdout"
        }
      ]
    }
  ]
}

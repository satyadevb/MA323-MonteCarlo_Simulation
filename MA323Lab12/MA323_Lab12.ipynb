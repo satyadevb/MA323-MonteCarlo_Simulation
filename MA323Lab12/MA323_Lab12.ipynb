{
  "nbformat": 4,
  "nbformat_minor": 0,
  "metadata": {
    "colab": {
      "name": "MA323_Lab12.ipynb",
      "provenance": [],
      "collapsed_sections": [],
      "authorship_tag": "ABX9TyP4bqihJLr6p/dZpEz+piCd",
      "include_colab_link": true
    },
    "kernelspec": {
      "display_name": "Python 3",
      "name": "python3"
    }
  },
  "cells": [
    {
      "cell_type": "markdown",
      "metadata": {
        "id": "view-in-github",
        "colab_type": "text"
      },
      "source": [
        "<a href=\"https://colab.research.google.com/github/satyadevb/MA323/blob/main/MA323_Lab12.ipynb\" target=\"_parent\"><img src=\"https://colab.research.google.com/assets/colab-badge.svg\" alt=\"Open In Colab\"/></a>"
      ]
    },
    {
      "cell_type": "code",
      "metadata": {
        "colab": {
          "base_uri": "https://localhost:8080/",
          "height": 1000
        },
        "id": "BjRekzIESBb6",
        "outputId": "bb9af96d-5bfb-412b-8ebb-d9d635596237"
      },
      "source": [
        "import matplotlib.pyplot as plt\n",
        "import numpy as np\n",
        "import statistics\n",
        "import random\n",
        "import math\n",
        "import time\n",
        "%matplotlib inline\n",
        "\n",
        "def rad_inv(k,base):\n",
        "    inverse = 0.0;power = 1.0\n",
        "    while(k > 0):\n",
        "        k, rdr = divmod(k, base)\n",
        "        power *= base\n",
        "        inverse += rdr/power\n",
        "    return inverse\n",
        "\n",
        "u_list = []\n",
        "for i in range(25):\n",
        "    u_list.append(rad_inv(i,2))\n",
        "\n",
        "print(\"The 25 values are:\\n\")\n",
        "print(u_list)\n",
        "print(\"\\n\")\n",
        "\n",
        "print(\"Two dimensional plot of pairs of values in the first 1000 values of the sequence:\\n\")\n",
        "u_list = []\n",
        "v_list = []\n",
        "for i in range(1000):\n",
        "    u_list.append(rad_inv(i,2))\n",
        "    v_list.append(rad_inv(i + 1,2))\n",
        "\n",
        "plt.scatter(u_list,v_list)\n",
        "plt.axis([0, 1, 0, 1])\n",
        "plt.show()\n",
        "\n",
        "print(\"\\n\\n\")\n",
        "\n",
        "print(\"\\nProbability Density Function of 100 random values using Van der Corput sequence:\\n\")\n",
        "u_list = []\n",
        "for i in range(100):\n",
        "    u_list.append(rad_inv(i,2))\n",
        "plt.hist(u_list, density=True, bins=30,rwidth = 0.8)\n",
        "plt.ylabel('Probability density')\n",
        "plt.xlabel('Random values');\n",
        "plt.show()\n",
        "\n",
        "print(\"\\nLCG used : seed = 15243, m = 244944, a = 1597, b = 20\")\n",
        "seed = 15243;m = 244944;a = 1597;b = 20\n",
        "print(\"\\nProbability Density Function of 100 random values using LCG:\\n\")\n",
        "u_list = []\n",
        "x = seed\n",
        "for i in range(100):\n",
        "     y = (a*x + b)%m\n",
        "     x = y\n",
        "     u_list.append(y/m)\n",
        "plt.hist(u_list, density=True, bins=30,rwidth = 0.8)\n",
        "plt.ylabel('Probability density')\n",
        "plt.xlabel('Random values');\n",
        "plt.show()\n",
        "\n",
        "print(\"\\nProbability Density Function of 100000 random values using Van der Corput sequence:\\n\")\n",
        "u_list = []\n",
        "for i in range(100000):\n",
        "    u_list.append(rad_inv(i,2))\n",
        "plt.hist(u_list, density=True, bins=30,rwidth = 0.8)\n",
        "plt.ylabel('Probability density')\n",
        "plt.xlabel('Random values');\n",
        "plt.show()\n",
        "\n",
        "print(\"\\nLCG used : seed = 15243, m = 244944, a = 1597, b = 20\")\n",
        "seed = 15243;m = 244944;a = 1597;b = 20\n",
        "print(\"\\nProbability Density Function of 100000 random values using LCG:\\n\")\n",
        "u_list = []\n",
        "x = seed\n",
        "for i in range(100000):\n",
        "     y = (a*x + b)%m\n",
        "     x = y\n",
        "     u_list.append(y/m)\n",
        "plt.hist(u_list, density=True, bins=30,rwidth = 0.8)\n",
        "plt.ylabel('Probability density')\n",
        "plt.xlabel('Random values');\n",
        "plt.show()\n"
      ],
      "execution_count": null,
      "outputs": [
        {
          "output_type": "stream",
          "text": [
            "The 25 values are:\n",
            "\n",
            "[0.0, 0.5, 0.25, 0.75, 0.125, 0.625, 0.375, 0.875, 0.0625, 0.5625, 0.3125, 0.8125, 0.1875, 0.6875, 0.4375, 0.9375, 0.03125, 0.53125, 0.28125, 0.78125, 0.15625, 0.65625, 0.40625, 0.90625, 0.09375]\n",
            "\n",
            "\n",
            "Two dimensional plot of pairs of values in the first 1000 values of the sequence:\n",
            "\n"
          ],
          "name": "stdout"
        },
        {
          "output_type": "display_data",
          "data": {
            "image/png": "[encoded data removed]",
            "text/plain": [
              "<Figure size 432x288 with 1 Axes>"
            ]
          },
          "metadata": {
            "tags": [],
            "needs_background": "light"
          }
        },
        {
          "output_type": "stream",
          "text": [
            "\n",
            "\n",
            "\n",
            "\n",
            "Probability Density Function of 100 random values using Van der Corput sequence:\n",
            "\n"
          ],
          "name": "stdout"
        },
        {
          "output_type": "display_data",
          "data": {
            "image/png": "[encoded data removed]",
            "text/plain": [
              "<Figure size 432x288 with 1 Axes>"
            ]
          },
          "metadata": {
            "tags": [],
            "needs_background": "light"
          }
        },
        {
          "output_type": "stream",
          "text": [
            "\n",
            "LCG used : seed = 15243, m = 244944, a = 1597, b = 20\n",
            "\n",
            "Probability Density Function of 100 random values using LCG:\n",
            "\n"
          ],
          "name": "stdout"
        },
        {
          "output_type": "display_data",
          "data": {
            "image/png": "[encoded data removed]",
            "text/plain": [
              "<Figure size 432x288 with 1 Axes>"
            ]
          },
          "metadata": {
            "tags": [],
            "needs_background": "light"
          }
        },
        {
          "output_type": "stream",
          "text": [
            "\n",
            "Probability Density Function of 100000 random values using Van der Corput sequence:\n",
            "\n"
          ],
          "name": "stdout"
        },
        {
          "output_type": "display_data",
          "data": {
            "image/png": "[encoded data removed]",
            "text/plain": [
              "<Figure size 432x288 with 1 Axes>"
            ]
          },
          "metadata": {
            "tags": [],
            "needs_background": "light"
          }
        },
        {
          "output_type": "stream",
          "text": [
            "\n",
            "LCG used : seed = 15243, m = 244944, a = 1597, b = 20\n",
            "\n",
            "Probability Density Function of 100000 random values using LCG:\n",
            "\n"
          ],
          "name": "stdout"
        },
        {
          "output_type": "display_data",
          "data": {
            "image/png": "[encoded data removed]",
            "text/plain": [
              "<Figure size 432x288 with 1 Axes>"
            ]
          },
          "metadata": {
            "tags": [],
            "needs_background": "light"
          }
        }
      ]
    },
    {
      "cell_type": "code",
      "metadata": {
        "colab": {
          "background_save": true,
          "base_uri": "https://localhost:8080/",
          "height": 521
        },
        "id": "lUW6p4Z5zywR",
        "outputId": "6335dfae-d365-4d3f-b34a-8842e4f67961"
      },
      "source": [
        "import matplotlib.pyplot as plt\n",
        "import numpy as np\n",
        "import statistics\n",
        "import random\n",
        "import math\n",
        "import time\n",
        "\n",
        "def rad_inv(k,base):\n",
        "    inverse = 0.0;power = 1.0\n",
        "    while(k > 0):\n",
        "        k, rdr = divmod(k, base)\n",
        "        power *= base\n",
        "        inverse += rdr/power\n",
        "    return inverse\n",
        "\n",
        "u_list = []\n",
        "v_list = []\n",
        "for i in range(100):\n",
        "    u_list.append(rad_inv(i,2))\n",
        "    v_list.append(rad_inv(i,3))\n",
        "\n",
        "plt.scatter(u_list,v_list)\n",
        "plt.axis([0, 1, 0, 1])\n",
        "plt.show()\n",
        "\n",
        "u_list = []\n",
        "v_list = []\n",
        "for i in range(10000):\n",
        "    u_list.append(rad_inv(i,2))\n",
        "    v_list.append(rad_inv(i,3))\n",
        "\n",
        "plt.scatter(u_list,v_list)\n",
        "plt.axis([0, 1, 0, 1])\n",
        "plt.show()"
      ],
      "execution_count": null,
      "outputs": [
        {
          "output_type": "display_data",
          "data": {
            "image/png": "[encoded data removed]",
            "text/plain": [
              "<Figure size 432x288 with 1 Axes>"
            ]
          },
          "metadata": {
            "tags": []
          }
        },
        {
          "output_type": "display_data",
          "data": {
            "image/png": "[encoded data removed]",
            "text/plain": [
              "<Figure size 432x288 with 1 Axes>"
            ]
          },
          "metadata": {
            "tags": []
          }
        }
      ]
    }
  ]
}
